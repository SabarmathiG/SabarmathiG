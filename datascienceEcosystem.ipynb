{
 "cells": [
  {
   "cell_type": "markdown",
   "id": "e45ae3d6-60c2-4a5e-a1d4-a8c6eb11ccce",
   "metadata": {},
   "source": [
    "# Data Science Tools and Ecosystem"
   ]
  },
  {
   "cell_type": "markdown",
   "id": "ca291260-ba52-453c-a202-1f554350f954",
   "metadata": {},
   "source": [
    "#Create a markdown cell for an introduction.\n",
    "# Introduction"
   ]
  },
  {
   "cell_type": "markdown",
   "id": "07dd3ad3-31ac-4d5d-980e-4b12a0be516c",
   "metadata": {},
   "source": [
    "# Data Science Languages\n",
    "- Python\n",
    "- R\n",
    "- Julia\n",
    "- SQL\n",
    "- MATLAB"
   ]
  },
  {
   "cell_type": "markdown",
   "id": "a73b9ddb-1e53-4660-8d7e-7d7f5473da0a",
   "metadata": {},
   "source": [
    "## Data Science Libraries\n",
    "  - NumPy\n",
    "  - pandas\n",
    "  - Matplotlib\n",
    "  - Seaborn\n",
    "  - SciPy\n",
    "  - scikit-learn\n",
    "  - TensorFlow\n",
    "  - Keras\n",
    "  - PyTorch"
   ]
  },
  {
   "cell_type": "markdown",
   "id": "b6dceb8c-ac59-44a8-b7dc-739ec8d92ff9",
   "metadata": {},
   "source": [
    "## Data Science Tools\n",
    "- Python\n",
    "- R\n",
    "- Scala\n",
    "- MATLAB\n"
   ]
  },
  {
   "cell_type": "markdown",
   "id": "0e6a5ad5-5c74-4df6-93f5-17f079b6d5f5",
   "metadata": {},
   "source": [
    "## Arithmetic Expression\n",
    "a= ((5+3)*2)/2\n"
   ]
  },
  {
   "cell_type": "code",
   "execution_count": 2,
   "id": "c5241251-8f0f-49ee-83c1-facbe75cb70b",
   "metadata": {},
   "outputs": [
    {
     "name": "stdout",
     "output_type": "stream",
     "text": [
      "10\n",
      "7\n"
     ]
    }
   ],
   "source": [
    "# multiply\n",
    "m = 5*2\n",
    "print(m)\n",
    "a= 5+2\n",
    "print(a)"
   ]
  },
  {
   "cell_type": "code",
   "execution_count": 3,
   "id": "5a720437-560d-49ab-a8dc-3fbc482f1189",
   "metadata": {},
   "outputs": [
    {
     "name": "stdout",
     "output_type": "stream",
     "text": [
      "3.5\n"
     ]
    }
   ],
   "source": [
    "min = 210\n",
    "hr = min/60\n",
    "print(hr)"
   ]
  },
  {
   "cell_type": "markdown",
   "id": "fb593800-a5c6-48ca-9be7-1b54d3374264",
   "metadata": {},
   "source": [
    "## Objectives of Data science \n",
    "1. To Understand the fundamental concepts of data science.\n",
    "2. Learn how to use programming languages and tools for data analysis.\n",
    "3. To Gain proficiency in manipulating and visualizing data.\n",
    "4. To Develop skills in statistical analysis and machine learning techniques.\n",
    "5. Try to Apply data science methodologies to real-world problems.\n"
   ]
  },
  {
   "cell_type": "markdown",
   "id": "1c2146c4-3f31-4ee9-8775-60b41d1bc9a3",
   "metadata": {},
   "source": [
    "## Author Name\n",
    "Author = \"Sabar\""
   ]
  }
 ],
 "metadata": {
  "kernelspec": {
   "display_name": "Python 3 (ipykernel)",
   "language": "python",
   "name": "python3"
  },
  "language_info": {
   "codemirror_mode": {
    "name": "ipython",
    "version": 3
   },
   "file_extension": ".py",
   "mimetype": "text/x-python",
   "name": "python",
   "nbconvert_exporter": "python",
   "pygments_lexer": "ipython3",
   "version": "3.11.7"
  }
 },
 "nbformat": 4,
 "nbformat_minor": 5
}
